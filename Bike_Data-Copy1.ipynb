{
 "cells": [
  {
   "cell_type": "code",
   "execution_count": 9,
   "id": "beb61e4a",
   "metadata": {},
   "outputs": [],
   "source": [
    "import matplotlib.pyplot as plt\n",
    "import pandas as pd\n",
    "import numpy as np\n",
    "import os\n",
    "import glob"
   ]
  },
  {
   "cell_type": "code",
   "execution_count": 10,
   "id": "60e048f1",
   "metadata": {},
   "outputs": [
    {
     "name": "stdout",
     "output_type": "stream",
     "text": [
      " Volume in drive C is Windows \n",
      " Volume Serial Number is 8C0E-CFAF\n",
      "\n",
      " Directory of C:\\Users\\radrs01\\Desktop\\GWU\\Home Work- Challenge\\Module 18- Tableau\n",
      "\n",
      "05/02/2023  10:09 PM    <DIR>          .\n",
      "04/25/2023  09:22 PM    <DIR>          ..\n",
      "04/30/2023  09:50 PM    <DIR>          .ipynb_checkpoints\n",
      "05/02/2023  10:09 PM    <DIR>          2017 Data\n",
      "05/01/2023  06:30 PM            17,526 Bike_Data.ipynb\n",
      "04/30/2023  09:50 PM            13,180 Bike_Data-Copy1.ipynb\n",
      "05/02/2023  10:09 PM    <DIR>          Data\n",
      "04/30/2023  08:24 PM       354,066,412 merged_data.csv\n",
      "05/02/2023  10:09 PM    <DIR>          New folder\n",
      "               3 File(s)    354,097,118 bytes\n",
      "               6 Dir(s)  321,823,076,352 bytes free\n"
     ]
    }
   ],
   "source": [
    "ls"
   ]
  },
  {
   "cell_type": "code",
   "execution_count": 11,
   "id": "e1574aac",
   "metadata": {},
   "outputs": [],
   "source": [
    "# Extract CSV into Dataframe (DF)\n",
    "file1 = \"Data/JC-202201-citibike-tripdata.csv\"\n",
    "file2 = \"Data/JC-202202-citibike-tripdata.csv\"\n",
    "file3 = \"Data/JC-202203-citibike-tripdata.csv\"\n",
    "file4 = \"Data/JC-202204-citibike-tripdata.csv\"\n",
    "file5 = \"Data/JC-202205-citibike-tripdata.csv\"\n",
    "file6 = \"Data/JC-202206-citibike-tripdata.csv\"\n",
    "file7 = \"Data/JC-202207-citbike-tripdata.csv\"\n",
    "file8 = \"Data/JC-202208-citibike-tripdata.csv\"\n",
    "file9 = \"Data/JC-202209-citibike-tripdata.csv\"\n",
    "file10 = \"Data/JC-202210-citibike-tripdata.csv\"\n",
    "file11 = \"Data/JC-202211-citibike-tripdata.csv\"\n",
    "file12 = \"Data/JC-202212-citibike-tripdata.csv\"\n",
    "\n",
    "\n",
    "#Read CSV\n",
    "\n",
    "january_trip_data = pd.read_csv(file1, encoding=\"UTF-8\")\n",
    "february_trip_data = pd.read_csv(file2, encoding=\"UTF-8\")\n",
    "march_trip_data = pd.read_csv(file3, encoding=\"UTF-8\")\n",
    "april_trip_data = pd.read_csv(file4, encoding=\"UTF-8\")\n",
    "may_trip_data = pd.read_csv(file5, encoding=\"UTF-8\")\n",
    "june_trip_data = pd.read_csv(file6, encoding=\"UTF-8\")\n",
    "july_trip_data = pd.read_csv(file7, encoding=\"UTF-8\")\n",
    "august_trip_data = pd.read_csv(file8, encoding=\"UTF-8\")\n",
    "september_trip_data = pd.read_csv(file9, encoding=\"UTF-8\")\n",
    "october_trip_data = pd.read_csv(file10, encoding=\"UTF-8\")\n",
    "november_trip_data = pd.read_csv(file11, encoding=\"UTF-8\")\n",
    "december_trip_data = pd.read_csv(file12, encoding=\"UTF-8\")"
   ]
  },
  {
   "cell_type": "code",
   "execution_count": 12,
   "id": "f4166e80",
   "metadata": {},
   "outputs": [],
   "source": [
    "# Merge tables\n",
    "df = [january_trip_data, february_trip_data, march_trip_data, april_trip_data,\n",
    "           may_trip_data, june_trip_data, july_trip_data, august_trip_data,\n",
    "           september_trip_data, october_trip_data, november_trip_data, december_trip_data]"
   ]
  },
  {
   "cell_type": "code",
   "execution_count": 13,
   "id": "59fd1838",
   "metadata": {},
   "outputs": [],
   "source": [
    "result = pd.concat(df)"
   ]
  },
  {
   "cell_type": "code",
   "execution_count": 14,
   "id": "ac38aae2",
   "metadata": {},
   "outputs": [
    {
     "name": "stdout",
     "output_type": "stream",
     "text": [
      "                ride_id  rideable_type           started_at  \\\n",
      "0      CA5837152804D4B5  electric_bike  2022-01-26 18:50:39   \n",
      "1      BA06A5E45B6601D2   classic_bike  2022-01-28 13:14:07   \n",
      "2      7B6827D7B9508D93   classic_bike  2022-01-10 19:55:13   \n",
      "3      6E5864EA6FCEC90D  electric_bike  2022-01-26 07:54:57   \n",
      "4      E24954255BBDE32D  electric_bike  2022-01-13 18:44:46   \n",
      "...                 ...            ...                  ...   \n",
      "48580  D438F1622839AC50   classic_bike  2022-12-06 15:43:38   \n",
      "48581  747A63A8E782D171  electric_bike  2022-12-08 08:17:51   \n",
      "48582  AE090858CFDE6E82  electric_bike  2022-12-23 14:10:07   \n",
      "48583  B3CC8E70AF4E259C   classic_bike  2022-12-02 04:43:25   \n",
      "48584  176B601F21327350   classic_bike  2022-12-30 14:50:17   \n",
      "\n",
      "                  ended_at                      start_station_name  \\\n",
      "0      2022-01-26 18:51:53                    12 St & Sinatra Dr N   \n",
      "1      2022-01-28 13:20:23                        Essex Light Rail   \n",
      "2      2022-01-10 20:00:37                        Essex Light Rail   \n",
      "3      2022-01-26 07:55:22                    12 St & Sinatra Dr N   \n",
      "4      2022-01-13 18:45:43                    12 St & Sinatra Dr N   \n",
      "...                    ...                                     ...   \n",
      "48580  2022-12-06 15:53:57                                  Dey St   \n",
      "48581  2022-12-08 08:23:33           9 St HBLR - Jackson St & 8 St   \n",
      "48582  2022-12-23 14:14:18  Mama Johnson Field - 4 St & Jackson St   \n",
      "48583  2022-12-02 04:46:55  Mama Johnson Field - 4 St & Jackson St   \n",
      "48584  2022-12-30 14:55:37       14 St Ferry - 14 St & Shipyard Ln   \n",
      "\n",
      "      start_station_id                  end_station_name end_station_id  \\\n",
      "0                HB201              12 St & Sinatra Dr N          HB201   \n",
      "1                JC038                  Essex Light Rail          JC038   \n",
      "2                JC038                  Essex Light Rail          JC038   \n",
      "3                HB201              12 St & Sinatra Dr N          HB201   \n",
      "4                HB201              12 St & Sinatra Dr N          HB201   \n",
      "...                ...                               ...            ...   \n",
      "48580            JC065                    Riverview Park          JC057   \n",
      "48581            HB305  City Hall - Washington St & 1 St          HB105   \n",
      "48582            HB404  City Hall - Washington St & 1 St          HB105   \n",
      "48583            HB404  City Hall - Washington St & 1 St          HB105   \n",
      "48584            HB202  City Hall - Washington St & 1 St          HB105   \n",
      "\n",
      "       start_lat  start_lng    end_lat    end_lng member_casual  \n",
      "0      40.750604 -74.024020  40.750604 -74.024020        member  \n",
      "1      40.712774 -74.036486  40.712774 -74.036486        member  \n",
      "2      40.712774 -74.036486  40.712774 -74.036486        member  \n",
      "3      40.750604 -74.024020  40.750604 -74.024020        member  \n",
      "4      40.750604 -74.024020  40.750604 -74.024020        member  \n",
      "...          ...        ...        ...        ...           ...  \n",
      "48580  40.737828 -74.067083  40.744319 -74.043991        member  \n",
      "48581  40.747907 -74.038412  40.737360 -74.030970        casual  \n",
      "48582  40.743140 -74.040041  40.737360 -74.030970        member  \n",
      "48583  40.743135 -74.040080  40.737360 -74.030970        member  \n",
      "48584  40.752747 -74.024035  40.737360 -74.030970        member  \n",
      "\n",
      "[895485 rows x 13 columns]\n"
     ]
    }
   ],
   "source": [
    "print (result)"
   ]
  },
  {
   "cell_type": "code",
   "execution_count": 15,
   "id": "c7a6ebec",
   "metadata": {},
   "outputs": [],
   "source": [
    "result.to_csv(\"Data/Trip_History_2022.csv\")"
   ]
  },
  {
   "cell_type": "code",
   "execution_count": 16,
   "id": "4524c739",
   "metadata": {},
   "outputs": [],
   "source": [
    "# Extract CSV into Dataframe\n",
    "file13 = \"Data/Trip_History_2022.csv\"\n",
    "\n",
    "# Read CSV\n",
    "trip_history = pd.read_csv(file13, encoding=\"UTF-8\")"
   ]
  },
  {
   "cell_type": "code",
   "execution_count": 17,
   "id": "b66c0d63",
   "metadata": {},
   "outputs": [
    {
     "data": {
      "text/plain": [
       "Unnamed: 0            895485\n",
       "ride_id               895485\n",
       "rideable_type         895485\n",
       "started_at            895485\n",
       "ended_at              895485\n",
       "start_station_name    895475\n",
       "start_station_id      895475\n",
       "end_station_name      892281\n",
       "end_station_id        892281\n",
       "start_lat             895485\n",
       "start_lng             895485\n",
       "end_lat               893515\n",
       "end_lng               893515\n",
       "member_casual         895485\n",
       "dtype: int64"
      ]
     },
     "execution_count": 17,
     "metadata": {},
     "output_type": "execute_result"
    }
   ],
   "source": [
    "trip_history.count()"
   ]
  },
  {
   "cell_type": "code",
   "execution_count": null,
   "id": "6f21c3d2",
   "metadata": {},
   "outputs": [],
   "source": [
    "# path = r\"C:\\Users\\radrs01\\Desktop\\GWU\\Home Work- Challenge\\Module 18- Tableau\\Data\"\n",
    "# # files= os.listdir(path)"
   ]
  },
  {
   "cell_type": "code",
   "execution_count": null,
   "id": "c54c33f4",
   "metadata": {},
   "outputs": [],
   "source": [
    "# filenames = glob.glob(path + \"\\*.csv\")\n",
    "# filenames\n",
    "\n",
    "# print('File names:', filenames)"
   ]
  },
  {
   "cell_type": "code",
   "execution_count": null,
   "id": "aad290f5",
   "metadata": {},
   "outputs": [],
   "source": [
    "# path = r\"C:\\Users\\radrs01\\Desktop\\GWU\\Home Work- Challenge\\Module 18- Tableau\\Data\"\n",
    "# path\n",
    "# df1= []\n"
   ]
  },
  {
   "cell_type": "code",
   "execution_count": null,
   "id": "f22a25b3",
   "metadata": {},
   "outputs": [],
   "source": [
    "# for filename in os.listdir(path):\n",
    "#     if filename.endswith('.csv'):\n",
    "#         file_path = os.path.join(path, filename)\n",
    "#         mydf=pd.read_csv(file_path)\n",
    "#         mydf.append(mydf)\n",
    "# combined_df = pandas.concat(mydf, axis=0, ignore_index=True)\n",
    "# combined_df.head()"
   ]
  },
  {
   "cell_type": "code",
   "execution_count": null,
   "id": "63445be6",
   "metadata": {},
   "outputs": [],
   "source": [
    "#outputxlsx = pd.DataFrame()"
   ]
  },
  {
   "cell_type": "code",
   "execution_count": null,
   "id": "2bd8c88e",
   "metadata": {},
   "outputs": [],
   "source": [
    "# # for loop to iterate all excel files\n",
    "# for file in filnames:\n",
    "#    # using concat for excel files\n",
    "#    # after reading them with read_excel()\n",
    "#    df1 = pd.concat(pd.read_csv( file,=None), ignore_index=True, sort=False)\n",
    "\n",
    "#    # appending data of excel files\n",
    "#    outputcsv = outputcsv.append( df, ignore_index=True)\n",
    "\n",
    "# print('Final Excel sheet now generated at the same location:')\n",
    "# outputcsv.to_excel(r\"C:\\Users\\radrs01\\Desktop\\GWU\\Home Work- Challenge\\Module 18- Tableau\\Data\", index=False)"
   ]
  },
  {
   "cell_type": "code",
   "execution_count": null,
   "id": "bd7ff1ee",
   "metadata": {},
   "outputs": [],
   "source": [
    "# # Set the directory where CSV files are stored\n",
    "# csv_folder = 'Data/'\n",
    "\n",
    "# # Get a list of all CSV files in the directory\n",
    "# csv_files = [f for f in os.listdir(csv_folder) if f.endswith('.csv')]"
   ]
  },
  {
   "cell_type": "code",
   "execution_count": null,
   "id": "77f1fa49",
   "metadata": {},
   "outputs": [],
   "source": [
    "# # Read all CSV files and merge them into one dataframe\n",
    "# df = pd.concat([pd.read_csv(os.path.join(csv_folder, f)) for f in csv_files])\n",
    "\n",
    "# # Save the merged dataframe to a new CSV file\n",
    "# df.to_csv(\"Data/merged_data.csv\", index=False)\n",
    "\n",
    "# # Visualize the merged dataframe"
   ]
  },
  {
   "cell_type": "code",
   "execution_count": null,
   "id": "d83a4677",
   "metadata": {},
   "outputs": [],
   "source": [
    "# print(len(df))"
   ]
  },
  {
   "cell_type": "code",
   "execution_count": null,
   "id": "4da963d3",
   "metadata": {},
   "outputs": [],
   "source": [
    "# df.head(2)"
   ]
  },
  {
   "cell_type": "code",
   "execution_count": null,
   "id": "351f62e7",
   "metadata": {},
   "outputs": [],
   "source": [
    "# Write the appended data into a new CSV file\n",
    "#appended_data.to_csv(\"appended_data.csv\", index=False)"
   ]
  }
 ],
 "metadata": {
  "kernelspec": {
   "display_name": "Python 3 (ipykernel)",
   "language": "python",
   "name": "python3"
  },
  "language_info": {
   "codemirror_mode": {
    "name": "ipython",
    "version": 3
   },
   "file_extension": ".py",
   "mimetype": "text/x-python",
   "name": "python",
   "nbconvert_exporter": "python",
   "pygments_lexer": "ipython3",
   "version": "3.9.13"
  }
 },
 "nbformat": 4,
 "nbformat_minor": 5
}
